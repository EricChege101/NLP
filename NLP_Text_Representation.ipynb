{
  "nbformat": 4,
  "nbformat_minor": 0,
  "metadata": {
    "colab": {
      "name": "NLP_Text_Representation.ipynb",
      "provenance": [],
      "collapsed_sections": []
    },
    "kernelspec": {
      "name": "python3",
      "display_name": "Python 3"
    },
    "language_info": {
      "name": "python"
    }
  },
  "cells": [
    {
      "cell_type": "markdown",
      "source": [
        "## Word embeddings\n",
        "### Case Study: Support Ticket Classification using Word2Vec"
      ],
      "metadata": {
        "id": "tb34zvoMJw35"
      }
    },
    {
      "cell_type": "code",
      "execution_count": 1,
      "metadata": {
        "colab": {
          "base_uri": "https://localhost:8080/"
        },
        "id": "S_wl3MNJJs7x",
        "outputId": "ffbe7b93-4363-479a-86df-45994197ac04"
      },
      "outputs": [
        {
          "output_type": "stream",
          "name": "stdout",
          "text": [
            "--2022-05-31 04:48:00--  https://thinkingneuron.com/wp-content/uploads/2021/12/supportTicketData.csv\n",
            "Resolving thinkingneuron.com (thinkingneuron.com)... 68.66.224.28\n",
            "Connecting to thinkingneuron.com (thinkingneuron.com)|68.66.224.28|:443... connected.\n",
            "HTTP request sent, awaiting response... 200 OK\n",
            "Length: 5893230 (5.6M) [text/csv]\n",
            "Saving to: ‘supportTicketData.csv’\n",
            "\n",
            "supportTicketData.c 100%[===================>]   5.62M  11.9MB/s    in 0.5s    \n",
            "\n",
            "2022-05-31 04:48:01 (11.9 MB/s) - ‘supportTicketData.csv’ saved [5893230/5893230]\n",
            "\n"
          ]
        }
      ],
      "source": [
        "# download data\n",
        "!wget https://thinkingneuron.com/wp-content/uploads/2021/12/supportTicketData.csv"
      ]
    },
    {
      "cell_type": "markdown",
      "source": [
        "## Reading the support ticket data\n",
        "This data contains 19,796 rows and 2 columns. The column”body” represents the ticket description and the column “urgency” represents the Priority."
      ],
      "metadata": {
        "id": "Av6RR0yTLnUH"
      }
    },
    {
      "cell_type": "code",
      "source": [
        "import pandas as pd\n",
        "import numpy as np\n",
        "import warnings\n",
        "warnings.filterwarnings('ignore')\n",
        " \n",
        "# Reading the data\n",
        "TicketData=pd.read_csv('supportTicketData.csv')\n",
        " \n",
        "# Printing number of rows and columns\n",
        "print(TicketData.shape)\n",
        " \n",
        "# Printing sample rows\n",
        "TicketData.head(10)"
      ],
      "metadata": {
        "colab": {
          "base_uri": "https://localhost:8080/",
          "height": 380
        },
        "id": "VJnnlRR8Ls74",
        "outputId": "5c367e40-9fbe-431b-f39d-62ffab5780ec"
      },
      "execution_count": 7,
      "outputs": [
        {
          "output_type": "stream",
          "name": "stdout",
          "text": [
            "(19796, 2)\n"
          ]
        },
        {
          "output_type": "execute_result",
          "data": {
            "text/plain": [
              "                                                body urgency\n",
              "0  connection issues with assigned address hi fac...      P1\n",
              "1  cannot access hi cannot access fallowing link ...      P2\n",
              "2  re address shown valid dear colleagues remarke...      P1\n",
              "3  sent tuesday critical alert following alert oc...      P2\n",
              "4  code spelling mistake hello should discover fo...      P2\n",
              "5  annual leave hello sent last week about previo...      P2\n",
              "6  report working hello dear last two weeks have ...      P2\n",
              "7  more access lost access please reset password ...      P1\n",
              "8  open credentials required please assist instal...      P1\n",
              "9  dear please ask our supplier for price quotati...      P2"
            ],
            "text/html": [
              "\n",
              "  <div id=\"df-b1a804fc-9c9a-4be4-8aea-64ec84668096\">\n",
              "    <div class=\"colab-df-container\">\n",
              "      <div>\n",
              "<style scoped>\n",
              "    .dataframe tbody tr th:only-of-type {\n",
              "        vertical-align: middle;\n",
              "    }\n",
              "\n",
              "    .dataframe tbody tr th {\n",
              "        vertical-align: top;\n",
              "    }\n",
              "\n",
              "    .dataframe thead th {\n",
              "        text-align: right;\n",
              "    }\n",
              "</style>\n",
              "<table border=\"1\" class=\"dataframe\">\n",
              "  <thead>\n",
              "    <tr style=\"text-align: right;\">\n",
              "      <th></th>\n",
              "      <th>body</th>\n",
              "      <th>urgency</th>\n",
              "    </tr>\n",
              "  </thead>\n",
              "  <tbody>\n",
              "    <tr>\n",
              "      <th>0</th>\n",
              "      <td>connection issues with assigned address hi fac...</td>\n",
              "      <td>P1</td>\n",
              "    </tr>\n",
              "    <tr>\n",
              "      <th>1</th>\n",
              "      <td>cannot access hi cannot access fallowing link ...</td>\n",
              "      <td>P2</td>\n",
              "    </tr>\n",
              "    <tr>\n",
              "      <th>2</th>\n",
              "      <td>re address shown valid dear colleagues remarke...</td>\n",
              "      <td>P1</td>\n",
              "    </tr>\n",
              "    <tr>\n",
              "      <th>3</th>\n",
              "      <td>sent tuesday critical alert following alert oc...</td>\n",
              "      <td>P2</td>\n",
              "    </tr>\n",
              "    <tr>\n",
              "      <th>4</th>\n",
              "      <td>code spelling mistake hello should discover fo...</td>\n",
              "      <td>P2</td>\n",
              "    </tr>\n",
              "    <tr>\n",
              "      <th>5</th>\n",
              "      <td>annual leave hello sent last week about previo...</td>\n",
              "      <td>P2</td>\n",
              "    </tr>\n",
              "    <tr>\n",
              "      <th>6</th>\n",
              "      <td>report working hello dear last two weeks have ...</td>\n",
              "      <td>P2</td>\n",
              "    </tr>\n",
              "    <tr>\n",
              "      <th>7</th>\n",
              "      <td>more access lost access please reset password ...</td>\n",
              "      <td>P1</td>\n",
              "    </tr>\n",
              "    <tr>\n",
              "      <th>8</th>\n",
              "      <td>open credentials required please assist instal...</td>\n",
              "      <td>P1</td>\n",
              "    </tr>\n",
              "    <tr>\n",
              "      <th>9</th>\n",
              "      <td>dear please ask our supplier for price quotati...</td>\n",
              "      <td>P2</td>\n",
              "    </tr>\n",
              "  </tbody>\n",
              "</table>\n",
              "</div>\n",
              "      <button class=\"colab-df-convert\" onclick=\"convertToInteractive('df-b1a804fc-9c9a-4be4-8aea-64ec84668096')\"\n",
              "              title=\"Convert this dataframe to an interactive table.\"\n",
              "              style=\"display:none;\">\n",
              "        \n",
              "  <svg xmlns=\"http://www.w3.org/2000/svg\" height=\"24px\"viewBox=\"0 0 24 24\"\n",
              "       width=\"24px\">\n",
              "    <path d=\"M0 0h24v24H0V0z\" fill=\"none\"/>\n",
              "    <path d=\"M18.56 5.44l.94 2.06.94-2.06 2.06-.94-2.06-.94-.94-2.06-.94 2.06-2.06.94zm-11 1L8.5 8.5l.94-2.06 2.06-.94-2.06-.94L8.5 2.5l-.94 2.06-2.06.94zm10 10l.94 2.06.94-2.06 2.06-.94-2.06-.94-.94-2.06-.94 2.06-2.06.94z\"/><path d=\"M17.41 7.96l-1.37-1.37c-.4-.4-.92-.59-1.43-.59-.52 0-1.04.2-1.43.59L10.3 9.45l-7.72 7.72c-.78.78-.78 2.05 0 2.83L4 21.41c.39.39.9.59 1.41.59.51 0 1.02-.2 1.41-.59l7.78-7.78 2.81-2.81c.8-.78.8-2.07 0-2.86zM5.41 20L4 18.59l7.72-7.72 1.47 1.35L5.41 20z\"/>\n",
              "  </svg>\n",
              "      </button>\n",
              "      \n",
              "  <style>\n",
              "    .colab-df-container {\n",
              "      display:flex;\n",
              "      flex-wrap:wrap;\n",
              "      gap: 12px;\n",
              "    }\n",
              "\n",
              "    .colab-df-convert {\n",
              "      background-color: #E8F0FE;\n",
              "      border: none;\n",
              "      border-radius: 50%;\n",
              "      cursor: pointer;\n",
              "      display: none;\n",
              "      fill: #1967D2;\n",
              "      height: 32px;\n",
              "      padding: 0 0 0 0;\n",
              "      width: 32px;\n",
              "    }\n",
              "\n",
              "    .colab-df-convert:hover {\n",
              "      background-color: #E2EBFA;\n",
              "      box-shadow: 0px 1px 2px rgba(60, 64, 67, 0.3), 0px 1px 3px 1px rgba(60, 64, 67, 0.15);\n",
              "      fill: #174EA6;\n",
              "    }\n",
              "\n",
              "    [theme=dark] .colab-df-convert {\n",
              "      background-color: #3B4455;\n",
              "      fill: #D2E3FC;\n",
              "    }\n",
              "\n",
              "    [theme=dark] .colab-df-convert:hover {\n",
              "      background-color: #434B5C;\n",
              "      box-shadow: 0px 1px 3px 1px rgba(0, 0, 0, 0.15);\n",
              "      filter: drop-shadow(0px 1px 2px rgba(0, 0, 0, 0.3));\n",
              "      fill: #FFFFFF;\n",
              "    }\n",
              "  </style>\n",
              "\n",
              "      <script>\n",
              "        const buttonEl =\n",
              "          document.querySelector('#df-b1a804fc-9c9a-4be4-8aea-64ec84668096 button.colab-df-convert');\n",
              "        buttonEl.style.display =\n",
              "          google.colab.kernel.accessAllowed ? 'block' : 'none';\n",
              "\n",
              "        async function convertToInteractive(key) {\n",
              "          const element = document.querySelector('#df-b1a804fc-9c9a-4be4-8aea-64ec84668096');\n",
              "          const dataTable =\n",
              "            await google.colab.kernel.invokeFunction('convertToInteractive',\n",
              "                                                     [key], {});\n",
              "          if (!dataTable) return;\n",
              "\n",
              "          const docLinkHtml = 'Like what you see? Visit the ' +\n",
              "            '<a target=\"_blank\" href=https://colab.research.google.com/notebooks/data_table.ipynb>data table notebook</a>'\n",
              "            + ' to learn more about interactive tables.';\n",
              "          element.innerHTML = '';\n",
              "          dataTable['output_type'] = 'display_data';\n",
              "          await google.colab.output.renderOutput(dataTable, element);\n",
              "          const docLink = document.createElement('div');\n",
              "          docLink.innerHTML = docLinkHtml;\n",
              "          element.appendChild(docLink);\n",
              "        }\n",
              "      </script>\n",
              "    </div>\n",
              "  </div>\n",
              "  "
            ]
          },
          "metadata": {},
          "execution_count": 7
        }
      ]
    },
    {
      "cell_type": "markdown",
      "source": [
        "## Visualising the distribution of the Target variable\n",
        "Now we try to see if the Target variable has a balanced distribution or not? Basically each priority type has enough rows to be learned.\n",
        "\n",
        "If the data would have been imbalanced, for example very less number of rows for the P1 category, then you need to balance the data using any of the popular techniques like over-sampling, under-sampling, or SMOTE."
      ],
      "metadata": {
        "id": "8z213KCVL33R"
      }
    },
    {
      "cell_type": "code",
      "source": [
        "# You can see there are 3 ticket types\n",
        "print(TicketData.groupby('urgency').size())\n",
        " \n",
        "# Plotting the bar chart\n",
        "%matplotlib inline\n",
        "TicketData.groupby('urgency').size().plot(kind='bar');"
      ],
      "metadata": {
        "colab": {
          "base_uri": "https://localhost:8080/",
          "height": 369
        },
        "id": "JED3kximL6c0",
        "outputId": "e7440011-2b9c-4404-c6e2-8f41aa408b11"
      },
      "execution_count": 8,
      "outputs": [
        {
          "output_type": "stream",
          "name": "stdout",
          "text": [
            "urgency\n",
            "P1    6748\n",
            "P2    5528\n",
            "P3    7520\n",
            "dtype: int64\n"
          ]
        },
        {
          "output_type": "display_data",
          "data": {
            "text/plain": [
              "<Figure size 432x288 with 1 Axes>"
            ],
            "image/png": "[encoded data removed]"
          },
          "metadata": {
            "needs_background": "light"
          }
        }
      ]
    },
    {
      "cell_type": "markdown",
      "source": [
        "## Count Vectorization: converting text data to numeric\n",
        "This step will help to remove all the stopwords and create a document term matrix.\n",
        "\n",
        "We will use this matrix to do further processing. For each word in the document term matrix, we will use the Word2Vec numeric vector representation."
      ],
      "metadata": {
        "id": "lZUbt8ciNRzw"
      }
    },
    {
      "cell_type": "code",
      "source": [
        "# Count vectorization of text\n",
        "from sklearn.feature_extraction.text import CountVectorizer\n",
        " \n",
        "# Ticket Data\n",
        "corpus = TicketData['body'].values\n",
        " \n",
        "# Creating the vectorizer\n",
        "vectorizer = CountVectorizer(stop_words='english')\n",
        " \n",
        "# Converting the text to numeric data\n",
        "X = vectorizer.fit_transform(corpus)\n",
        " \n",
        "#print(vectorizer.get_feature_names())\n",
        " \n",
        "# Preparing Data frame For machine learning\n",
        "# Priority column acts as a target variable and other columns as predictors\n",
        "CountVectorizedData=pd.DataFrame(X.toarray(), columns=vectorizer.get_feature_names())\n",
        "CountVectorizedData['Priority']=TicketData['urgency']\n",
        "print(CountVectorizedData.shape)\n",
        "CountVectorizedData.head()"
      ],
      "metadata": {
        "colab": {
          "base_uri": "https://localhost:8080/",
          "height": 317
        },
        "id": "0K7PQAp0NSfk",
        "outputId": "93f433b3-323e-4724-ac45-b2c0ae08376a"
      },
      "execution_count": 9,
      "outputs": [
        {
          "output_type": "stream",
          "name": "stdout",
          "text": [
            "(19796, 9100)\n"
          ]
        },
        {
          "output_type": "execute_result",
          "data": {
            "text/plain": [
              "   ab  abandon  abandoned  abc  abeam  abilities  ability  able  abnormal  \\\n",
              "0   0        0          0    0      0          0        0     0         0   \n",
              "1   0        0          0    0      0          0        0     0         0   \n",
              "2   0        0          0    0      0          0        0     0         0   \n",
              "3   0        0          0    0      0          0        0     0         0   \n",
              "4   0        0          0    0      0          0        0     0         0   \n",
              "\n",
              "   abnormally  ...  zig  zip  zipped  zipper  zipping  zone  zones  zoom  \\\n",
              "0           0  ...    0    0       0       0        0     0      0     0   \n",
              "1           0  ...    0    0       0       0        0     0      0     0   \n",
              "2           0  ...    0    0       0       0        0     0      0     0   \n",
              "3           0  ...    0    0       0       0        0     0      0     0   \n",
              "4           0  ...    0    0       0       0        0     0      0     0   \n",
              "\n",
              "   zooming  Priority  \n",
              "0        0        P1  \n",
              "1        0        P2  \n",
              "2        0        P1  \n",
              "3        0        P2  \n",
              "4        0        P2  \n",
              "\n",
              "[5 rows x 9100 columns]"
            ],
            "text/html": [
              "\n",
              "  <div id=\"df-41b29270-92a3-45a7-9c64-36a024f3cfe3\">\n",
              "    <div class=\"colab-df-container\">\n",
              "      <div>\n",
              "<style scoped>\n",
              "    .dataframe tbody tr th:only-of-type {\n",
              "        vertical-align: middle;\n",
              "    }\n",
              "\n",
              "    .dataframe tbody tr th {\n",
              "        vertical-align: top;\n",
              "    }\n",
              "\n",
              "    .dataframe thead th {\n",
              "        text-align: right;\n",
              "    }\n",
              "</style>\n",
              "<table border=\"1\" class=\"dataframe\">\n",
              "  <thead>\n",
              "    <tr style=\"text-align: right;\">\n",
              "      <th></th>\n",
              "      <th>ab</th>\n",
              "      <th>abandon</th>\n",
              "      <th>abandoned</th>\n",
              "      <th>abc</th>\n",
              "      <th>abeam</th>\n",
              "      <th>abilities</th>\n",
              "      <th>ability</th>\n",
              "      <th>able</th>\n",
              "      <th>abnormal</th>\n",
              "      <th>abnormally</th>\n",
              "      <th>...</th>\n",
              "      <th>zig</th>\n",
              "      <th>zip</th>\n",
              "      <th>zipped</th>\n",
              "      <th>zipper</th>\n",
              "      <th>zipping</th>\n",
              "      <th>zone</th>\n",
              "      <th>zones</th>\n",
              "      <th>zoom</th>\n",
              "      <th>zooming</th>\n",
              "      <th>Priority</th>\n",
              "    </tr>\n",
              "  </thead>\n",
              "  <tbody>\n",
              "    <tr>\n",
              "      <th>0</th>\n",
              "      <td>0</td>\n",
              "      <td>0</td>\n",
              "      <td>0</td>\n",
              "      <td>0</td>\n",
              "      <td>0</td>\n",
              "      <td>0</td>\n",
              "      <td>0</td>\n",
              "      <td>0</td>\n",
              "      <td>0</td>\n",
              "      <td>0</td>\n",
              "      <td>...</td>\n",
              "      <td>0</td>\n",
              "      <td>0</td>\n",
              "      <td>0</td>\n",
              "      <td>0</td>\n",
              "      <td>0</td>\n",
              "      <td>0</td>\n",
              "      <td>0</td>\n",
              "      <td>0</td>\n",
              "      <td>0</td>\n",
              "      <td>P1</td>\n",
              "    </tr>\n",
              "    <tr>\n",
              "      <th>1</th>\n",
              "      <td>0</td>\n",
              "      <td>0</td>\n",
              "      <td>0</td>\n",
              "      <td>0</td>\n",
              "      <td>0</td>\n",
              "      <td>0</td>\n",
              "      <td>0</td>\n",
              "      <td>0</td>\n",
              "      <td>0</td>\n",
              "      <td>0</td>\n",
              "      <td>...</td>\n",
              "      <td>0</td>\n",
              "      <td>0</td>\n",
              "      <td>0</td>\n",
              "      <td>0</td>\n",
              "      <td>0</td>\n",
              "      <td>0</td>\n",
              "      <td>0</td>\n",
              "      <td>0</td>\n",
              "      <td>0</td>\n",
              "      <td>P2</td>\n",
              "    </tr>\n",
              "    <tr>\n",
              "      <th>2</th>\n",
              "      <td>0</td>\n",
              "      <td>0</td>\n",
              "      <td>0</td>\n",
              "      <td>0</td>\n",
              "      <td>0</td>\n",
              "      <td>0</td>\n",
              "      <td>0</td>\n",
              "      <td>0</td>\n",
              "      <td>0</td>\n",
              "      <td>0</td>\n",
              "      <td>...</td>\n",
              "      <td>0</td>\n",
              "      <td>0</td>\n",
              "      <td>0</td>\n",
              "      <td>0</td>\n",
              "      <td>0</td>\n",
              "      <td>0</td>\n",
              "      <td>0</td>\n",
              "      <td>0</td>\n",
              "      <td>0</td>\n",
              "      <td>P1</td>\n",
              "    </tr>\n",
              "    <tr>\n",
              "      <th>3</th>\n",
              "      <td>0</td>\n",
              "      <td>0</td>\n",
              "      <td>0</td>\n",
              "      <td>0</td>\n",
              "      <td>0</td>\n",
              "      <td>0</td>\n",
              "      <td>0</td>\n",
              "      <td>0</td>\n",
              "      <td>0</td>\n",
              "      <td>0</td>\n",
              "      <td>...</td>\n",
              "      <td>0</td>\n",
              "      <td>0</td>\n",
              "      <td>0</td>\n",
              "      <td>0</td>\n",
              "      <td>0</td>\n",
              "      <td>0</td>\n",
              "      <td>0</td>\n",
              "      <td>0</td>\n",
              "      <td>0</td>\n",
              "      <td>P2</td>\n",
              "    </tr>\n",
              "    <tr>\n",
              "      <th>4</th>\n",
              "      <td>0</td>\n",
              "      <td>0</td>\n",
              "      <td>0</td>\n",
              "      <td>0</td>\n",
              "      <td>0</td>\n",
              "      <td>0</td>\n",
              "      <td>0</td>\n",
              "      <td>0</td>\n",
              "      <td>0</td>\n",
              "      <td>0</td>\n",
              "      <td>...</td>\n",
              "      <td>0</td>\n",
              "      <td>0</td>\n",
              "      <td>0</td>\n",
              "      <td>0</td>\n",
              "      <td>0</td>\n",
              "      <td>0</td>\n",
              "      <td>0</td>\n",
              "      <td>0</td>\n",
              "      <td>0</td>\n",
              "      <td>P2</td>\n",
              "    </tr>\n",
              "  </tbody>\n",
              "</table>\n",
              "<p>5 rows × 9100 columns</p>\n",
              "</div>\n",
              "      <button class=\"colab-df-convert\" onclick=\"convertToInteractive('df-41b29270-92a3-45a7-9c64-36a024f3cfe3')\"\n",
              "              title=\"Convert this dataframe to an interactive table.\"\n",
              "              style=\"display:none;\">\n",
              "        \n",
              "  <svg xmlns=\"http://www.w3.org/2000/svg\" height=\"24px\"viewBox=\"0 0 24 24\"\n",
              "       width=\"24px\">\n",
              "    <path d=\"M0 0h24v24H0V0z\" fill=\"none\"/>\n",
              "    <path d=\"M18.56 5.44l.94 2.06.94-2.06 2.06-.94-2.06-.94-.94-2.06-.94 2.06-2.06.94zm-11 1L8.5 8.5l.94-2.06 2.06-.94-2.06-.94L8.5 2.5l-.94 2.06-2.06.94zm10 10l.94 2.06.94-2.06 2.06-.94-2.06-.94-.94-2.06-.94 2.06-2.06.94z\"/><path d=\"M17.41 7.96l-1.37-1.37c-.4-.4-.92-.59-1.43-.59-.52 0-1.04.2-1.43.59L10.3 9.45l-7.72 7.72c-.78.78-.78 2.05 0 2.83L4 21.41c.39.39.9.59 1.41.59.51 0 1.02-.2 1.41-.59l7.78-7.78 2.81-2.81c.8-.78.8-2.07 0-2.86zM5.41 20L4 18.59l7.72-7.72 1.47 1.35L5.41 20z\"/>\n",
              "  </svg>\n",
              "      </button>\n",
              "      \n",
              "  <style>\n",
              "    .colab-df-container {\n",
              "      display:flex;\n",
              "      flex-wrap:wrap;\n",
              "      gap: 12px;\n",
              "    }\n",
              "\n",
              "    .colab-df-convert {\n",
              "      background-color: #E8F0FE;\n",
              "      border: none;\n",
              "      border-radius: 50%;\n",
              "      cursor: pointer;\n",
              "      display: none;\n",
              "      fill: #1967D2;\n",
              "      height: 32px;\n",
              "      padding: 0 0 0 0;\n",
              "      width: 32px;\n",
              "    }\n",
              "\n",
              "    .colab-df-convert:hover {\n",
              "      background-color: #E2EBFA;\n",
              "      box-shadow: 0px 1px 2px rgba(60, 64, 67, 0.3), 0px 1px 3px 1px rgba(60, 64, 67, 0.15);\n",
              "      fill: #174EA6;\n",
              "    }\n",
              "\n",
              "    [theme=dark] .colab-df-convert {\n",
              "      background-color: #3B4455;\n",
              "      fill: #D2E3FC;\n",
              "    }\n",
              "\n",
              "    [theme=dark] .colab-df-convert:hover {\n",
              "      background-color: #434B5C;\n",
              "      box-shadow: 0px 1px 3px 1px rgba(0, 0, 0, 0.15);\n",
              "      filter: drop-shadow(0px 1px 2px rgba(0, 0, 0, 0.3));\n",
              "      fill: #FFFFFF;\n",
              "    }\n",
              "  </style>\n",
              "\n",
              "      <script>\n",
              "        const buttonEl =\n",
              "          document.querySelector('#df-41b29270-92a3-45a7-9c64-36a024f3cfe3 button.colab-df-convert');\n",
              "        buttonEl.style.display =\n",
              "          google.colab.kernel.accessAllowed ? 'block' : 'none';\n",
              "\n",
              "        async function convertToInteractive(key) {\n",
              "          const element = document.querySelector('#df-41b29270-92a3-45a7-9c64-36a024f3cfe3');\n",
              "          const dataTable =\n",
              "            await google.colab.kernel.invokeFunction('convertToInteractive',\n",
              "                                                     [key], {});\n",
              "          if (!dataTable) return;\n",
              "\n",
              "          const docLinkHtml = 'Like what you see? Visit the ' +\n",
              "            '<a target=\"_blank\" href=https://colab.research.google.com/notebooks/data_table.ipynb>data table notebook</a>'\n",
              "            + ' to learn more about interactive tables.';\n",
              "          element.innerHTML = '';\n",
              "          dataTable['output_type'] = 'display_data';\n",
              "          await google.colab.output.renderOutput(dataTable, element);\n",
              "          const docLink = document.createElement('div');\n",
              "          docLink.innerHTML = docLinkHtml;\n",
              "          element.appendChild(docLink);\n",
              "        }\n",
              "      </script>\n",
              "    </div>\n",
              "  </div>\n",
              "  "
            ]
          },
          "metadata": {},
          "execution_count": 9
        }
      ]
    },
    {
      "cell_type": "markdown",
      "source": [
        "## Word2Vec conversion:\n",
        "Now we will use the Word2Vec representation of words to convert the above document term matrix to a smaller matrix, where the columns are the sum of the vectors for each word present in the document.\n",
        "\n",
        "For example, look at the below diagram. The flow is shown for one sentence, the same happens for every sentence in the corpus.\n",
        "\n",
        "The numeric representation of each word is taken from Word2Vec.\n",
        "All the vectors are added, hence producing a single vector\n",
        "That single vector represents the information of the sentence, hence treated as one row.\n",
        "\n",
        "![](\thttps://thinkingneuron.com/wp-content/uploads/2021/12/image-74.png)"
      ],
      "metadata": {
        "id": "72HD0JYOMdC2"
      }
    },
    {
      "cell_type": "markdown",
      "source": [
        "## Downloading Google’s word2Vec model\n",
        "* We will Use the Pre-trained word2Vec model from \n",
        "google, It contains word vectors for a vocabulary of 3 million words.\n",
        "* Trained on around 100 billion words from the google news dataset."
      ],
      "metadata": {
        "id": "q1dQQH5JNp95"
      }
    },
    {
      "cell_type": "code",
      "source": [
        "# !wget https://s3.amazonaws.com/dl4j-distribution/GoogleNews-vectors-negative300.bin.gz\n",
        "\n",
        "import gensim.downloader as api\n",
        "\n",
        "GoogleModel = api.load('word2vec-google-news-300')\n"
      ],
      "metadata": {
        "id": "9Dh8TGQtN0Au"
      },
      "execution_count": 13,
      "outputs": []
    },
    {
      "cell_type": "code",
      "source": [
        "# GoogleModel['hello'].shape\n",
        "GoogleModel['hello'].shape"
      ],
      "metadata": {
        "colab": {
          "base_uri": "https://localhost:8080/"
        },
        "id": "MJ_Z0xbqOzNB",
        "outputId": "ff8be87b-e2e1-4481-b3af-52b41d90159c"
      },
      "execution_count": 14,
      "outputs": [
        {
          "output_type": "execute_result",
          "data": {
            "text/plain": [
              "(300,)"
            ]
          },
          "metadata": {},
          "execution_count": 14
        }
      ]
    },
    {
      "cell_type": "code",
      "source": [
        "# Looking at a sample vector for a word\n",
        "GoogleModel['hello']"
      ],
      "metadata": {
        "colab": {
          "base_uri": "https://localhost:8080/"
        },
        "id": "0VnwCTjTd9Gd",
        "outputId": "266b307b-27e0-46c1-ecc2-86c1c251842d"
      },
      "execution_count": 15,
      "outputs": [
        {
          "output_type": "execute_result",
          "data": {
            "text/plain": [
              "array([-0.05419922,  0.01708984, -0.00527954,  0.33203125, -0.25      ,\n",
              "       -0.01397705, -0.15039062, -0.265625  ,  0.01647949,  0.3828125 ,\n",
              "       -0.03295898, -0.09716797, -0.16308594, -0.04443359,  0.00946045,\n",
              "        0.18457031,  0.03637695,  0.16601562,  0.36328125, -0.25585938,\n",
              "        0.375     ,  0.171875  ,  0.21386719, -0.19921875,  0.13085938,\n",
              "       -0.07275391, -0.02819824,  0.11621094,  0.15332031,  0.09082031,\n",
              "        0.06787109, -0.0300293 , -0.16894531, -0.20800781, -0.03710938,\n",
              "       -0.22753906,  0.26367188,  0.012146  ,  0.18359375,  0.31054688,\n",
              "       -0.10791016, -0.19140625,  0.21582031,  0.13183594, -0.03515625,\n",
              "        0.18554688, -0.30859375,  0.04785156, -0.10986328,  0.14355469,\n",
              "       -0.43554688, -0.0378418 ,  0.10839844,  0.140625  , -0.10595703,\n",
              "        0.26171875, -0.17089844,  0.39453125,  0.12597656, -0.27734375,\n",
              "       -0.28125   ,  0.14746094, -0.20996094,  0.02355957,  0.18457031,\n",
              "        0.00445557, -0.27929688, -0.03637695, -0.29296875,  0.19628906,\n",
              "        0.20703125,  0.2890625 , -0.20507812,  0.06787109, -0.43164062,\n",
              "       -0.10986328, -0.2578125 , -0.02331543,  0.11328125,  0.23144531,\n",
              "       -0.04418945,  0.10839844, -0.2890625 , -0.09521484, -0.10351562,\n",
              "       -0.0324707 ,  0.07763672, -0.13378906,  0.22949219,  0.06298828,\n",
              "        0.08349609,  0.02929688, -0.11474609,  0.00534058, -0.12988281,\n",
              "        0.02514648,  0.08789062,  0.24511719, -0.11474609, -0.296875  ,\n",
              "       -0.59375   , -0.29492188, -0.13378906,  0.27734375, -0.04174805,\n",
              "        0.11621094,  0.28320312,  0.00241089,  0.13867188, -0.00683594,\n",
              "       -0.30078125,  0.16210938,  0.01171875, -0.13867188,  0.48828125,\n",
              "        0.02880859,  0.02416992,  0.04736328,  0.05859375, -0.23828125,\n",
              "        0.02758789,  0.05981445, -0.03857422,  0.06933594,  0.14941406,\n",
              "       -0.10888672, -0.07324219,  0.08789062,  0.27148438,  0.06591797,\n",
              "       -0.37890625, -0.26171875, -0.13183594,  0.09570312, -0.3125    ,\n",
              "        0.10205078,  0.03063965,  0.23632812,  0.00582886,  0.27734375,\n",
              "        0.20507812, -0.17871094, -0.31445312, -0.01586914,  0.13964844,\n",
              "        0.13574219,  0.0390625 , -0.29296875,  0.234375  , -0.33984375,\n",
              "       -0.11816406,  0.10644531, -0.18457031, -0.02099609,  0.02563477,\n",
              "        0.25390625,  0.07275391,  0.13574219, -0.00138092, -0.2578125 ,\n",
              "       -0.2890625 ,  0.10107422,  0.19238281, -0.04882812,  0.27929688,\n",
              "       -0.3359375 , -0.07373047,  0.01879883, -0.10986328, -0.04614258,\n",
              "        0.15722656,  0.06689453, -0.03417969,  0.16308594,  0.08642578,\n",
              "        0.44726562,  0.02026367, -0.01977539,  0.07958984,  0.17773438,\n",
              "       -0.04370117, -0.00952148,  0.16503906,  0.17285156,  0.23144531,\n",
              "       -0.04272461,  0.02355957,  0.18359375, -0.41601562, -0.01745605,\n",
              "        0.16796875,  0.04736328,  0.14257812,  0.08496094,  0.33984375,\n",
              "        0.1484375 , -0.34375   , -0.14160156, -0.06835938, -0.14648438,\n",
              "       -0.02844238,  0.07421875, -0.07666016,  0.12695312,  0.05859375,\n",
              "       -0.07568359, -0.03344727,  0.23632812, -0.16308594,  0.16503906,\n",
              "        0.1484375 , -0.2421875 , -0.3515625 , -0.30664062,  0.00491333,\n",
              "        0.17675781,  0.46289062,  0.14257812, -0.25      , -0.25976562,\n",
              "        0.04370117,  0.34960938,  0.05957031,  0.07617188, -0.02868652,\n",
              "       -0.09667969, -0.01281738,  0.05859375, -0.22949219, -0.1953125 ,\n",
              "       -0.12207031,  0.20117188, -0.42382812,  0.06005859,  0.50390625,\n",
              "        0.20898438,  0.11230469, -0.06054688,  0.33203125,  0.07421875,\n",
              "       -0.05786133,  0.11083984, -0.06494141,  0.05639648,  0.01757812,\n",
              "        0.08398438,  0.13769531,  0.2578125 ,  0.16796875, -0.16894531,\n",
              "        0.01794434,  0.16015625,  0.26171875,  0.31640625, -0.24804688,\n",
              "        0.05371094, -0.0859375 ,  0.17089844, -0.39453125, -0.00156403,\n",
              "       -0.07324219, -0.04614258, -0.16210938, -0.15722656,  0.21289062,\n",
              "       -0.15820312,  0.04394531,  0.28515625,  0.01196289, -0.26953125,\n",
              "       -0.04370117,  0.37109375,  0.04663086, -0.19726562,  0.3046875 ,\n",
              "       -0.36523438, -0.23632812,  0.08056641, -0.04248047, -0.14648438,\n",
              "       -0.06225586, -0.0534668 , -0.05664062,  0.18945312,  0.37109375,\n",
              "       -0.22070312,  0.04638672,  0.02612305, -0.11474609,  0.265625  ,\n",
              "       -0.02453613,  0.11083984, -0.02514648, -0.12060547,  0.05297852,\n",
              "        0.07128906,  0.00063705, -0.36523438, -0.13769531, -0.12890625],\n",
              "      dtype=float32)"
            ]
          },
          "metadata": {},
          "execution_count": 15
        }
      ]
    },
    {
      "cell_type": "code",
      "source": [
        "# Finding similar words\n",
        "# The most_similar() function finds the cosine similarity of the given word with \n",
        "# other words using the word2Vec representations of each word\n",
        "GoogleModel.most_similar('king', topn=5)\n"
      ],
      "metadata": {
        "colab": {
          "base_uri": "https://localhost:8080/",
          "height": 200
        },
        "id": "E4fTHBD8eDGR",
        "outputId": "28791c86-7eb7-4446-c0fe-dcb24f99042e"
      },
      "execution_count": 1,
      "outputs": [
        {
          "output_type": "error",
          "ename": "NameError",
          "evalue": "ignored",
          "traceback": [
            "\u001b[0;31m---------------------------------------------------------------------------\u001b[0m",
            "\u001b[0;31mNameError\u001b[0m                                 Traceback (most recent call last)",
            "\u001b[0;32m<ipython-input-1-ceec59890e20>\u001b[0m in \u001b[0;36m<module>\u001b[0;34m()\u001b[0m\n\u001b[1;32m      2\u001b[0m \u001b[0;31m# The most_similar() function finds the cosine similarity of the given word with\u001b[0m\u001b[0;34m\u001b[0m\u001b[0;34m\u001b[0m\u001b[0;34m\u001b[0m\u001b[0m\n\u001b[1;32m      3\u001b[0m \u001b[0;31m# other words using the word2Vec representations of each word\u001b[0m\u001b[0;34m\u001b[0m\u001b[0;34m\u001b[0m\u001b[0;34m\u001b[0m\u001b[0m\n\u001b[0;32m----> 4\u001b[0;31m \u001b[0mGoogleModel\u001b[0m\u001b[0;34m.\u001b[0m\u001b[0mmost_similar\u001b[0m\u001b[0;34m(\u001b[0m\u001b[0;34m'king'\u001b[0m\u001b[0;34m,\u001b[0m \u001b[0mtopn\u001b[0m\u001b[0;34m=\u001b[0m\u001b[0;36m5\u001b[0m\u001b[0;34m)\u001b[0m\u001b[0;34m\u001b[0m\u001b[0;34m\u001b[0m\u001b[0m\n\u001b[0m",
            "\u001b[0;31mNameError\u001b[0m: name 'GoogleModel' is not defined"
          ]
        }
      ]
    },
    {
      "cell_type": "markdown",
      "source": [
        "## Converting every sentence to a numeric vector\n",
        "For each word in a sentence, we extract the numeric form of the word and then simply add all the numeric forms for that sentence to represent the sentence."
      ],
      "metadata": {
        "id": "N5_nt8oOeQMp"
      }
    },
    {
      "cell_type": "code",
      "source": [
        "def FunctionText2Vec(inpTextData):\n",
        "    # Converting the text to numeric data\n",
        "    X = vectorizer.transform(inpTextData)\n",
        "    CountVecData=pd.DataFrame(X.toarray(), columns=vectorizer.get_feature_names())\n",
        "    \n",
        "    # Creating empty dataframe to hold sentences\n",
        "    W2Vec_Data=pd.DataFrame()\n",
        "    \n",
        "    # Looping through each row for the data\n",
        "    for i in range(CountVecData.shape[0]):\n",
        " \n",
        "        # initiating a sentence with all zeros\n",
        "        Sentence = np.zeros(300)\n",
        " \n",
        "        # Looping thru each word in the sentence and if its present in \n",
        "        # the Word2Vec model then storing its vector\n",
        "        for word in WordsVocab[CountVecData.iloc[i,:]>=1]:\n",
        "            #print(word)\n",
        "            if word in GoogleModel.key_to_index.keys():    \n",
        "                Sentence=Sentence+GoogleModel[word]\n",
        "        # Appending the sentence to the dataframe\n",
        "        W2Vec_Data=W2Vec_Data.append(pd.DataFrame([Sentence]))\n",
        "    return(W2Vec_Data)"
      ],
      "metadata": {
        "id": "MflDkLCWeR3P"
      },
      "execution_count": 3,
      "outputs": []
    },
    {
      "cell_type": "code",
      "source": [
        "# Since there are so many words... This will take some time :( \n",
        "# Calling the function to convert all the text data to Word2Vec Vectors\n",
        "W2Vec_Data=FunctionText2Vec(TicketData['body'])\n",
        " \n",
        "# Checking the new representation for sentences\n",
        "W2Vec_Data.shape"
      ],
      "metadata": {
        "colab": {
          "base_uri": "https://localhost:8080/",
          "height": 235
        },
        "id": "HcXldCp1ecCx",
        "outputId": "f537c504-6c33-47f7-e865-6286db898eb1"
      },
      "execution_count": 2,
      "outputs": [
        {
          "output_type": "error",
          "ename": "NameError",
          "evalue": "ignored",
          "traceback": [
            "\u001b[0;31m---------------------------------------------------------------------------\u001b[0m",
            "\u001b[0;31mNameError\u001b[0m                                 Traceback (most recent call last)",
            "\u001b[0;32m<ipython-input-2-fe35042fb3f0>\u001b[0m in \u001b[0;36m<module>\u001b[0;34m()\u001b[0m\n\u001b[1;32m      1\u001b[0m \u001b[0;31m# Since there are so many words... This will take some time :(\u001b[0m\u001b[0;34m\u001b[0m\u001b[0;34m\u001b[0m\u001b[0;34m\u001b[0m\u001b[0m\n\u001b[1;32m      2\u001b[0m \u001b[0;31m# Calling the function to convert all the text data to Word2Vec Vectors\u001b[0m\u001b[0;34m\u001b[0m\u001b[0;34m\u001b[0m\u001b[0;34m\u001b[0m\u001b[0m\n\u001b[0;32m----> 3\u001b[0;31m \u001b[0mW2Vec_Data\u001b[0m\u001b[0;34m=\u001b[0m\u001b[0mFunctionText2Vec\u001b[0m\u001b[0;34m(\u001b[0m\u001b[0mTicketData\u001b[0m\u001b[0;34m[\u001b[0m\u001b[0;34m'body'\u001b[0m\u001b[0;34m]\u001b[0m\u001b[0;34m)\u001b[0m\u001b[0;34m\u001b[0m\u001b[0;34m\u001b[0m\u001b[0m\n\u001b[0m\u001b[1;32m      4\u001b[0m \u001b[0;34m\u001b[0m\u001b[0m\n\u001b[1;32m      5\u001b[0m \u001b[0;31m# Checking the new representation for sentences\u001b[0m\u001b[0;34m\u001b[0m\u001b[0;34m\u001b[0m\u001b[0;34m\u001b[0m\u001b[0m\n",
            "\u001b[0;31mNameError\u001b[0m: name 'FunctionText2Vec' is not defined"
          ]
        }
      ]
    },
    {
      "cell_type": "code",
      "source": [
        "# Comparing the above with the document term matrix\n",
        "CountVectorizedData.shape"
      ],
      "metadata": {
        "id": "pQQ6RFlHtmsR"
      },
      "execution_count": null,
      "outputs": []
    },
    {
      "cell_type": "markdown",
      "source": [
        "## Preparing Data for ML"
      ],
      "metadata": {
        "id": "8ykZISUXtqnO"
      }
    },
    {
      "cell_type": "code",
      "source": [
        "# Adding the target variable\n",
        "W2Vec_Data.reset_index(inplace=True, drop=True)\n",
        "W2Vec_Data['Priority']=CountVectorizedData['Priority']\n",
        " \n",
        "# Assigning to DataForML variable\n",
        "DataForML=W2Vec_Data\n",
        "DataForML.head()"
      ],
      "metadata": {
        "id": "3Hp7UepLtse4"
      },
      "execution_count": null,
      "outputs": []
    },
    {
      "cell_type": "markdown",
      "source": [
        "## Splitting the data into training and testing"
      ],
      "metadata": {
        "id": "VvG5NJ_Kt2t0"
      }
    },
    {
      "cell_type": "code",
      "source": [
        "# Separate Target Variable and Predictor Variables\n",
        "TargetVariable=DataForML.columns[-1]\n",
        "Predictors=DataForML.columns[:-1]\n",
        " \n",
        "X=DataForML[Predictors].values\n",
        "y=DataForML[TargetVariable].values\n",
        " \n",
        "# Split the data into training and testing set\n",
        "from sklearn.model_selection import train_test_split\n",
        "X_train, X_test, y_train, y_test = train_test_split(X, y, test_size=0.3, random_state=428)\n",
        " \n",
        "# Sanity check for the sampled data\n",
        "print(X_train.shape)\n",
        "print(y_train.shape)\n",
        "print(X_test.shape)\n",
        "print(y_test.shape)"
      ],
      "metadata": {
        "id": "GQ_71g-st4ku"
      },
      "execution_count": null,
      "outputs": []
    },
    {
      "cell_type": "markdown",
      "source": [
        "## Standardization/Normalization\n",
        "This is an optional step. It can speed up the processing of the model training."
      ],
      "metadata": {
        "id": "PYp7-2nUuEN2"
      }
    },
    {
      "cell_type": "code",
      "source": [
        "from sklearn.preprocessing import StandardScaler, MinMaxScaler\n",
        "# Choose either standardization or Normalization\n",
        "# On this data Min Max Normalization is used because we need to fit Naive Bayes\n",
        " \n",
        "# Choose between standardization and MinMAx normalization\n",
        "#PredictorScaler=StandardScaler()\n",
        "PredictorScaler=MinMaxScaler()\n",
        " \n",
        "# Storing the fit object for later reference\n",
        "PredictorScalerFit=PredictorScaler.fit(X)\n",
        " \n",
        "# Generating the standardized values of X\n",
        "X=PredictorScalerFit.transform(X)\n",
        " \n",
        "# Split the data into training and testing set\n",
        "from sklearn.model_selection import train_test_split\n",
        "X_train, X_test, y_train, y_test = train_test_split(X, y, test_size=0.3, random_state=428)\n",
        " \n",
        "# Sanity check for the sampled data\n",
        "print(X_train.shape)\n",
        "print(y_train.shape)\n",
        "print(X_test.shape)\n",
        "print(y_test.shape)"
      ],
      "metadata": {
        "id": "TzUgV2DJuF36"
      },
      "execution_count": null,
      "outputs": []
    },
    {
      "cell_type": "markdown",
      "source": [
        "## Naive Bayes\n",
        "This algorithm trains very fast! The accuracy may not be very high always but the speed is guaranteed!\n",
        "\n",
        "I have commented the cross-validation section just to save computing time. You can uncomment and execute those commands as well."
      ],
      "metadata": {
        "id": "2Prg8blUuQlj"
      }
    },
    {
      "cell_type": "code",
      "source": [
        "# Naive Bayes\n",
        "from sklearn.naive_bayes import GaussianNB, MultinomialNB\n",
        "\n",
        "# GaussianNB is used in Binomial Classification\n",
        "# MultinomialNB is used in multi-class classification\n",
        "#clf = GaussianNB()\n",
        "clf = MultinomialNB()\n",
        "\n",
        "# Printing all the parameters of Naive Bayes\n",
        "print(clf)\n",
        "\n",
        "NB=clf.fit(X_train,y_train)\n",
        "prediction=NB.predict(X_test)\n",
        "\n",
        "# Measuring accuracy on Testing Data\n",
        "from sklearn import metrics\n",
        "print(metrics.classification_report(y_test, prediction))\n",
        "print(metrics.confusion_matrix(y_test, prediction))\n",
        "\n",
        "# Printing the Overall Accuracy of the model\n",
        "F1_Score=metrics.f1_score(y_test, prediction, average='weighted')\n",
        "print('Accuracy of the model on Testing Sample Data:', round(F1_Score,2))\n",
        "\n",
        "# Importing cross validation function from sklearn\n",
        "from sklearn.model_selection import cross_val_score\n",
        "\n",
        "# Running 10-Fold Cross validation on a given algorithm\n",
        "# Passing full data X and y because the K-fold will split the data and automatically choose train/test\n",
        "Accuracy_Values=cross_val_score(NB, X , y, cv=5, scoring='f1_weighted')\n",
        "print('\\nAccuracy values for 5-fold Cross Validation:\\n',Accuracy_Values)\n",
        "print('\\nFinal Average Accuracy of the model:', round(Accuracy_Values.mean(),2))"
      ],
      "metadata": {
        "id": "XB0pcYciuVbn"
      },
      "execution_count": null,
      "outputs": []
    }
  ]
}